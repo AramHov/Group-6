{
 "cells": [
  {
   "cell_type": "code",
   "execution_count": 6,
   "metadata": {
    "collapsed": true
   },
   "outputs": [],
   "source": [
    "from datetime import datetime\n",
    "import numpy as np\n",
    "import pandas as pd\n",
    "import matplotlib.pyplot as plt"
   ]
  },
  {
   "cell_type": "code",
   "execution_count": 7,
   "metadata": {},
   "outputs": [
    {
     "data": {
      "text/html": [
       "<div>\n",
       "<style>\n",
       "    .dataframe thead tr:only-child th {\n",
       "        text-align: right;\n",
       "    }\n",
       "\n",
       "    .dataframe thead th {\n",
       "        text-align: left;\n",
       "    }\n",
       "\n",
       "    .dataframe tbody tr th {\n",
       "        vertical-align: top;\n",
       "    }\n",
       "</style>\n",
       "<table border=\"1\" class=\"dataframe\">\n",
       "  <thead>\n",
       "    <tr style=\"text-align: right;\">\n",
       "      <th></th>\n",
       "      <th>text</th>\n",
       "      <th>created_at</th>\n",
       "      <th>Unique Identifier</th>\n",
       "    </tr>\n",
       "  </thead>\n",
       "  <tbody>\n",
       "    <tr>\n",
       "      <th>0</th>\n",
       "      <td>It all begins today! I will see you at 11:00 A...</td>\n",
       "      <td>1/20/2017</td>\n",
       "      <td>1</td>\n",
       "    </tr>\n",
       "    <tr>\n",
       "      <th>1</th>\n",
       "      <td>Today we are not merely transferring power fro...</td>\n",
       "      <td>1/20/2017</td>\n",
       "      <td>1</td>\n",
       "    </tr>\n",
       "    <tr>\n",
       "      <th>2</th>\n",
       "      <td>power from Washington D.C. and giving it back ...</td>\n",
       "      <td>1/20/2017</td>\n",
       "      <td>1</td>\n",
       "    </tr>\n",
       "    <tr>\n",
       "      <th>3</th>\n",
       "      <td>What truly matters is not which party controls...</td>\n",
       "      <td>1/20/2017</td>\n",
       "      <td>1</td>\n",
       "    </tr>\n",
       "    <tr>\n",
       "      <th>4</th>\n",
       "      <td>January 20th 2017 will be remembered as the da...</td>\n",
       "      <td>1/20/2017</td>\n",
       "      <td>1</td>\n",
       "    </tr>\n",
       "  </tbody>\n",
       "</table>\n",
       "</div>"
      ],
      "text/plain": [
       "                                                text created_at  \\\n",
       "0  It all begins today! I will see you at 11:00 A...  1/20/2017   \n",
       "1  Today we are not merely transferring power fro...  1/20/2017   \n",
       "2  power from Washington D.C. and giving it back ...  1/20/2017   \n",
       "3  What truly matters is not which party controls...  1/20/2017   \n",
       "4  January 20th 2017 will be remembered as the da...  1/20/2017   \n",
       "\n",
       "   Unique Identifier  \n",
       "0                  1  \n",
       "1                  1  \n",
       "2                  1  \n",
       "3                  1  \n",
       "4                  1  "
      ]
     },
     "execution_count": 7,
     "metadata": {},
     "output_type": "execute_result"
    }
   ],
   "source": [
    "from vaderSentiment.vaderSentiment import SentimentIntensityAnalyzer\n",
    "analyzer = SentimentIntensityAnalyzer()\n",
    "\n",
    "df=pd.read_csv(\"..\\Raw Data\\Trump tweets 3 day groups jan-dec 2017.csv\")\n",
    "df.head()"
   ]
  },
  {
   "cell_type": "code",
   "execution_count": 16,
   "metadata": {},
   "outputs": [],
   "source": [
    "firstTweet = True\n",
    "compound_list =[]\n",
    "sentiments =[]\n",
    "count =0\n",
    "\n",
    "for index, row in df.iterrows():\n",
    "    #Run Vader Analysis on each tweet\n",
    "    sentence =row[\"text\"]\n",
    "    #Tweet datetime object\n",
    "    new_id = row[\"Unique Identifier\"]\n",
    "    if(firstTweet == False):\n",
    "        if(old_id != new_id):\n",
    "            compound= np.mean(compound_list)\n",
    "            compound_list =[]\n",
    "            new_date = row[\"created_at\"]\n",
    "            #Store the Sentiments\n",
    "            sentiments.append({\"Compound\":compound,\n",
    "                \"Startdate\" : old_start_date,\n",
    "                \"Enddate\": old_end_date,\n",
    "                \"Count\" : count})\n",
    "            #Resetting count\n",
    "            count =0\n",
    "        elif(count==1):\n",
    "            old_start_date =row[\"created_at\"]\n",
    "    else:\n",
    "        firstTweet = False\n",
    "    compound_list.append(analyzer.polarity_scores(sentence)[\"compound\"])\n",
    "    count +=1\n",
    "    old_id = new_id\n",
    "    old_end_date = row[\"created_at\"]"
   ]
  },
  {
   "cell_type": "code",
   "execution_count": 17,
   "metadata": {},
   "outputs": [
    {
     "data": {
      "text/html": [
       "<div>\n",
       "<style>\n",
       "    .dataframe thead tr:only-child th {\n",
       "        text-align: right;\n",
       "    }\n",
       "\n",
       "    .dataframe thead th {\n",
       "        text-align: left;\n",
       "    }\n",
       "\n",
       "    .dataframe tbody tr th {\n",
       "        vertical-align: top;\n",
       "    }\n",
       "</style>\n",
       "<table border=\"1\" class=\"dataframe\">\n",
       "  <thead>\n",
       "    <tr style=\"text-align: right;\">\n",
       "      <th></th>\n",
       "      <th>Compound</th>\n",
       "      <th>Count</th>\n",
       "      <th>Enddate</th>\n",
       "      <th>Startdate</th>\n",
       "    </tr>\n",
       "  </thead>\n",
       "  <tbody>\n",
       "    <tr>\n",
       "      <th>0</th>\n",
       "      <td>0.185511</td>\n",
       "      <td>18</td>\n",
       "      <td>1/22/2017</td>\n",
       "      <td>1/20/2017</td>\n",
       "    </tr>\n",
       "    <tr>\n",
       "      <th>1</th>\n",
       "      <td>0.183223</td>\n",
       "      <td>13</td>\n",
       "      <td>1/25/2017</td>\n",
       "      <td>1/24/2017</td>\n",
       "    </tr>\n",
       "    <tr>\n",
       "      <th>2</th>\n",
       "      <td>0.106478</td>\n",
       "      <td>23</td>\n",
       "      <td>1/28/2017</td>\n",
       "      <td>1/26/2017</td>\n",
       "    </tr>\n",
       "    <tr>\n",
       "      <th>3</th>\n",
       "      <td>-0.232106</td>\n",
       "      <td>17</td>\n",
       "      <td>1/31/2017</td>\n",
       "      <td>1/29/2017</td>\n",
       "    </tr>\n",
       "    <tr>\n",
       "      <th>4</th>\n",
       "      <td>0.069474</td>\n",
       "      <td>19</td>\n",
       "      <td>2/3/2017</td>\n",
       "      <td>2/1/2017</td>\n",
       "    </tr>\n",
       "  </tbody>\n",
       "</table>\n",
       "</div>"
      ],
      "text/plain": [
       "   Compound  Count    Enddate  Startdate\n",
       "0  0.185511     18  1/22/2017  1/20/2017\n",
       "1  0.183223     13  1/25/2017  1/24/2017\n",
       "2  0.106478     23  1/28/2017  1/26/2017\n",
       "3 -0.232106     17  1/31/2017  1/29/2017\n",
       "4  0.069474     19   2/3/2017   2/1/2017"
      ]
     },
     "execution_count": 17,
     "metadata": {},
     "output_type": "execute_result"
    }
   ],
   "source": [
    "#Put all data into dataframe and export to csv file\n",
    "sentiments_df = pd.DataFrame.from_dict(sentiments)\n",
    "sentiments_df.head()"
   ]
  },
  {
   "cell_type": "code",
   "execution_count": null,
   "metadata": {
    "collapsed": true
   },
   "outputs": [],
   "source": []
  }
 ],
 "metadata": {
  "kernelspec": {
   "display_name": "Python 3",
   "language": "python",
   "name": "python3"
  },
  "language_info": {
   "codemirror_mode": {
    "name": "ipython",
    "version": 3
   },
   "file_extension": ".py",
   "mimetype": "text/x-python",
   "name": "python",
   "nbconvert_exporter": "python",
   "pygments_lexer": "ipython3",
   "version": "3.6.3"
  }
 },
 "nbformat": 4,
 "nbformat_minor": 2
}
